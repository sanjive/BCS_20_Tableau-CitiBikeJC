{
 "cells": [
  {
   "cell_type": "markdown",
   "metadata": {},
   "source": [
    "# Data ETL Work\n",
    "## CitBike Jersey City Data Analysis for year 2019\n",
    "### CitiBike Web Site https://www.citibikenyc.com/system-data"
   ]
  },
  {
   "cell_type": "markdown",
   "metadata": {},
   "source": [
    "#### Import dependencies"
   ]
  },
  {
   "cell_type": "code",
   "execution_count": 4,
   "metadata": {
    "ExecuteTime": {
     "end_time": "2020-07-23T03:47:55.345823Z",
     "start_time": "2020-07-23T03:47:55.341834Z"
    }
   },
   "outputs": [],
   "source": [
    "import pandas as pd\n",
    "from pathlib import Path\n",
    "import glob\n",
    "import zipfile"
   ]
  },
  {
   "cell_type": "markdown",
   "metadata": {
    "ExecuteTime": {
     "end_time": "2020-07-21T01:17:17.930659Z",
     "start_time": "2020-07-21T01:17:17.926672Z"
    }
   },
   "source": [
    "#### Get the current working directory - helps to know the cwd the code is running at :)"
   ]
  },
  {
   "cell_type": "code",
   "execution_count": 5,
   "metadata": {
    "ExecuteTime": {
     "end_time": "2020-07-23T03:47:56.578821Z",
     "start_time": "2020-07-23T03:47:56.573846Z"
    }
   },
   "outputs": [
    {
     "data": {
      "text/plain": [
       "'C:\\\\Users\\\\sanji\\\\Documents\\\\GitHub\\\\homework\\\\20-Tableau'"
      ]
     },
     "execution_count": 5,
     "metadata": {},
     "output_type": "execute_result"
    }
   ],
   "source": [
    "pwd"
   ]
  },
  {
   "cell_type": "markdown",
   "metadata": {},
   "source": [
    "#### Get the 12 zip files for Jersey City for the year 2019"
   ]
  },
  {
   "cell_type": "markdown",
   "metadata": {
    "ExecuteTime": {
     "end_time": "2020-07-21T01:14:51.915221Z",
     "start_time": "2020-07-21T01:14:51.911231Z"
    }
   },
   "source": [
    "#### Get the Jersey City CitiBike Trip data data\n",
    "     from https://s3.amazonaws.com/tripdata/index.html"
   ]
  },
  {
   "cell_type": "markdown",
   "metadata": {},
   "source": [
    "#### Use Jupyter Notebook to clean and merge the data into file"
   ]
  },
  {
   "cell_type": "code",
   "execution_count": 7,
   "metadata": {
    "ExecuteTime": {
     "end_time": "2020-07-23T03:48:19.792222Z",
     "start_time": "2020-07-23T03:48:13.949662Z"
    }
   },
   "outputs": [
    {
     "name": "stdout",
     "output_type": "stream",
     "text": [
      "Tokenization took: 33.91 ms\n",
      "Type conversion took: 18.95 ms\n",
      "Parser memory cleanup took: 0.00 ms\n",
      "Tokenization took: 29.92 ms\n",
      "Type conversion took: 18.96 ms\n",
      "Parser memory cleanup took: 0.00 ms\n",
      "Tokenization took: 38.89 ms\n",
      "Type conversion took: 22.91 ms\n",
      "Parser memory cleanup took: 0.00 ms\n",
      "Tokenization took: 55.82 ms\n",
      "Type conversion took: 38.90 ms\n",
      "Parser memory cleanup took: 0.00 ms\n",
      "Tokenization took: 54.86 ms\n",
      "Type conversion took: 38.89 ms\n",
      "Parser memory cleanup took: 0.00 ms\n",
      "Tokenization took: 73.83 ms\n",
      "Type conversion took: 42.85 ms\n",
      "Parser memory cleanup took: 0.00 ms\n",
      "Tokenization took: 72.80 ms\n",
      "Type conversion took: 46.88 ms\n",
      "Parser memory cleanup took: 0.00 ms\n",
      "Tokenization took: 91.71 ms\n",
      "Type conversion took: 60.87 ms\n",
      "Parser memory cleanup took: 0.00 ms\n",
      "Tokenization took: 85.77 ms\n",
      "Type conversion took: 56.85 ms\n",
      "Parser memory cleanup took: 0.00 ms\n",
      "Tokenization took: 73.80 ms\n",
      "Type conversion took: 44.88 ms\n",
      "Parser memory cleanup took: 0.00 ms\n",
      "Tokenization took: 49.86 ms\n",
      "Type conversion took: 35.95 ms\n",
      "Parser memory cleanup took: 0.00 ms\n",
      "Tokenization took: 29.93 ms\n",
      "Type conversion took: 18.98 ms\n",
      "Parser memory cleanup took: 0.00 ms\n"
     ]
    }
   ],
   "source": [
    "## The below steps will read the .zip files recursively from the folder path \n",
    "## identified and extract the .csv files and then read them into Pandas\n",
    "## dataFrame and concatenate and export the file as one .csv file.\n",
    "##\n",
    "##  Use Pathlib and glob libraries to locate the data files recursively\n",
    "##  below is the folder structure of the un-zipped files on the local drive\n",
    "#\n",
    "# +---data\n",
    "# |   |   JC-201901-citibike-tripdata.csv.zip\n",
    "# |   |   JC-201902-citibike-tripdata.csv.zip\n",
    "# |   |   JC-201903-citibike-tripdata.csv.zip\n",
    "# |   |   JC-201904-citibike-tripdata.csv.zip\n",
    "# |   |   JC-201905-citibike-tripdata.csv.zip\n",
    "# |   |   JC-201906-citibike-tripdata.csv.zip\n",
    "# |   |   JC-201907-citibike-tripdata.csv.zip\n",
    "# |   |   JC-201908-citibike-tripdata.csv.zip\n",
    "# |   |   JC-201909-citibike-tripdata.csv.zip\n",
    "# |   |   JC-201910-citibike-tripdata.csv.zip\n",
    "# |   |   JC-201911-citibike-tripdata.csv.zip\n",
    "# |   |   JC-201912-citibike-tripdata.csv.zip\n",
    "#\n",
    "dir = Path(\"data\")\n",
    "dfs = []\n",
    "for zip_file in dir.glob(\"*.zip\"):\n",
    "    zf = zipfile.ZipFile(zip_file)\n",
    "    # Read csv file with verbose=True to print out the time taken to process the file.\n",
    "    # Set custom column headers ignoring the ones in the raw data file.\n",
    "    for f in zf.namelist():\n",
    "        dfs.append(pd.read_csv(zf.open(f), header=0, sep=\",\", verbose=True, skiprows=1, \\\n",
    "                       names=['tripduration', 'starttime', 'stoptime', \\\n",
    "                              'start_station_id','start_station_name', \\\n",
    "                              'start_station_latitude', 'start_station_longitude', \\\n",
    "                              'end_station_id', 'end_station_name', \\\n",
    "                              'end_station_latitude', 'end_station_longitude', \\\n",
    "                              'bikeid', 'usertype', 'birth_year', 'gender'] \\\n",
    "                      ))\n",
    "data_df = pd.concat(dfs, ignore_index=True)\n",
    "data_df.to_csv('citibike_jc_tripdata_2019.csv', sep=\",\", encoding='utf-8',\n",
    "                                                index=False, header=True)"
   ]
  },
  {
   "cell_type": "code",
   "execution_count": null,
   "metadata": {
    "ExecuteTime": {
     "end_time": "2020-07-23T03:05:37.202768Z",
     "start_time": "2020-07-23T03:05:37.197811Z"
    }
   },
   "outputs": [],
   "source": [
    "data_df.shape"
   ]
  },
  {
   "cell_type": "code",
   "execution_count": null,
   "metadata": {
    "ExecuteTime": {
     "end_time": "2020-07-23T01:52:09.762386Z",
     "start_time": "2020-07-23T01:52:09.756402Z"
    }
   },
   "outputs": [],
   "source": [
    "data_df.shape"
   ]
  },
  {
   "cell_type": "code",
   "execution_count": null,
   "metadata": {
    "ExecuteTime": {
     "end_time": "2020-07-21T02:01:02.417557Z",
     "start_time": "2020-07-21T02:01:02.410579Z"
    }
   },
   "outputs": [],
   "source": [
    "data_df.columns"
   ]
  },
  {
   "cell_type": "code",
   "execution_count": null,
   "metadata": {
    "ExecuteTime": {
     "end_time": "2020-07-21T02:01:11.325565Z",
     "start_time": "2020-07-21T02:01:11.319592Z"
    }
   },
   "outputs": [],
   "source": [
    "data_df.dtypes"
   ]
  },
  {
   "cell_type": "code",
   "execution_count": null,
   "metadata": {
    "ExecuteTime": {
     "end_time": "2020-07-21T02:01:58.201766Z",
     "start_time": "2020-07-21T02:01:58.183813Z"
    }
   },
   "outputs": [],
   "source": [
    "data_df.head()"
   ]
  },
  {
   "cell_type": "markdown",
   "metadata": {},
   "source": [
    "## Below are alternate methods to extract the .csv files from the .zip files. Useful when debugging and testing."
   ]
  },
  {
   "cell_type": "code",
   "execution_count": null,
   "metadata": {
    "ExecuteTime": {
     "end_time": "2020-07-21T01:33:06.637147Z",
     "start_time": "2020-07-21T01:33:00.986718Z"
    }
   },
   "outputs": [],
   "source": [
    "# The below steps will read the .csv files recursively from the folder path identified\n",
    "##  Use Pathlib and glob libraries to locate the data files recursively\n",
    "# below is the folder structure of the un-zipped files on the local drive\n",
    "#\n",
    "# +---data\n",
    "# |   +---JC-201901-citibike-tripdata.csv\n",
    "# |   |       JC-201901-citibike-tripdata.csv\n",
    "# |   +---JC-201902-citibike-tripdata.csv\n",
    "# |   |       JC-201902-citibike-tripdata.csv\n",
    "# |   +---JC-201903-citibike-tripdata.csv\n",
    "# |   |       JC-201903-citibike-tripdata.csv\n",
    "# |   +---JC-201904-citibike-tripdata.csv\n",
    "# |   |       JC-201904-citibike-tripdata.csv\n",
    "# |   +---JC-201905-citibike-tripdata.csv\n",
    "# |   |       JC-201905-citibike-tripdata.csv\n",
    "# |   +---JC-201906-citibike-tripdata.csv\n",
    "# |   |       JC-201906-citibike-tripdata.csv\n",
    "# |   +---JC-201907-citibike-tripdata.csv\n",
    "# |   |       JC-201907-citibike-tripdata.csv\n",
    "# |   +---JC-201908-citibike-tripdata.csv\n",
    "# |   |       JC-201908-citibike-tripdata.csv\n",
    "# |   +---JC-201909-citibike-tripdata.csv\n",
    "# |   |       JC-201909-citibike-tripdata.csv\n",
    "# |   +---JC-201910-citibike-tripdata.csv\n",
    "# |   |       JC-201910-citibike-tripdata.csv\n",
    "# |   +---JC-201911-citibike-tripdata.csv\n",
    "# |   |       JC-201911-citibike-tripdata.csv\n",
    "# |   +---JC-201912-citibike-tripdata.csv\n",
    "# |           JC-201912-citibike-tripdata.csv\n",
    "#\n",
    "# Define the directory location\n",
    "dir = Path(\"data\")\n",
    "# Extract the list of file recursively\n",
    "file_list = (print (f) for f in dir.glob(\"*.csv/*.csv\"))\n",
    "# list(file_list)\n",
    "# Read the csv files in to Pandas dataFrame with the header\n",
    "csv_df = (pd.read_csv(f) for f in dir.glob(\"*.csv/*.csv\"))\n",
    "# Concat all the dataFrame into\n",
    "csv_df = pd.concat(csv_df)\n",
    "# export the dataFrame to csv file in the folder where this python code is running\n",
    "csv_df.to_csv('citibike_jc_tripdata_2019.csv', encoding='utf-8', index=False, header=True)"
   ]
  },
  {
   "cell_type": "markdown",
   "metadata": {},
   "source": [
    "#### Below code can be used to extract the .csv files from the .zip files. The code will run recursively and extract all the .csv files to the folder identified (This is not required as the concatenated file has already been created, this is for testing.)\n",
    "Note: The files are not concatenated"
   ]
  },
  {
   "cell_type": "code",
   "execution_count": null,
   "metadata": {
    "ExecuteTime": {
     "end_time": "2020-07-21T01:35:33.803394Z",
     "start_time": "2020-07-21T01:35:33.482835Z"
    },
    "code_folding": []
   },
   "outputs": [],
   "source": [
    "# The below steps will read the .csv files recursively from the folder path identified\n",
    "##  Use Pathlib and glob libraries to locate the data files recursively\n",
    "# below is the folder structure of the un-zipped files on the local drive\n",
    "#\n",
    "# +---data\n",
    "# |   |   JC-201901-citibike-tripdata.csv.zip\n",
    "# |   |   JC-201902-citibike-tripdata.csv.zip\n",
    "# |   |   JC-201903-citibike-tripdata.csv.zip\n",
    "# |   |   JC-201904-citibike-tripdata.csv.zip\n",
    "# |   |   JC-201905-citibike-tripdata.csv.zip\n",
    "# |   |   JC-201906-citibike-tripdata.csv.zip\n",
    "# |   |   JC-201907-citibike-tripdata.csv.zip\n",
    "# |   |   JC-201908-citibike-tripdata.csv.zip\n",
    "# |   |   JC-201909-citibike-tripdata.csv.zip\n",
    "# |   |   JC-201910-citibike-tripdata.csv.zip\n",
    "# |   |   JC-201911-citibike-tripdata.csv.zip\n",
    "# |   |   JC-201912-citibike-tripdata.csv.zip\n",
    "#\n",
    "dir = Path(\"data\")\n",
    "\n",
    "def extract_files(file_path):\n",
    "  archive = zipfile.ZipFile(file_path, 'r') \n",
    "  unzipped_path = archive.extractall()\n",
    "  return unzipped_path\n",
    "\n",
    "# zipped_files = (zipfile.ZipFile(dir.glob(\"*.zip\"),'r')).extractall()\n",
    "zipped_files = dir.glob(\"*.zip\")\n",
    "file_paths = [extract_files(zf) for zf in zipped_files]"
   ]
  }
 ],
 "metadata": {
  "kernelspec": {
   "display_name": "Python 3.7.6 64-bit ('PythonData2020_1': conda)",
   "language": "python",
   "name": "python37664bitpythondata20201conda6baabde948e8485c8acdbdb1f5c8dec5"
  },
  "language_info": {
   "codemirror_mode": {
    "name": "ipython",
    "version": 3
   },
   "file_extension": ".py",
   "mimetype": "text/x-python",
   "name": "python",
   "nbconvert_exporter": "python",
   "pygments_lexer": "ipython3",
   "version": "3.8.4"
  },
  "latex_envs": {
   "LaTeX_envs_menu_present": true,
   "autoclose": false,
   "autocomplete": true,
   "bibliofile": "biblio.bib",
   "cite_by": "apalike",
   "current_citInitial": 1,
   "eqLabelWithNumbers": true,
   "eqNumInitial": 1,
   "hotkeys": {
    "equation": "Ctrl-E",
    "itemize": "Ctrl-I"
   },
   "labels_anchors": false,
   "latex_user_defs": false,
   "report_style_numbering": false,
   "user_envs_cfg": false
  },
  "toc": {
   "base_numbering": 1,
   "nav_menu": {},
   "number_sections": true,
   "sideBar": true,
   "skip_h1_title": false,
   "title_cell": "Table of Contents",
   "title_sidebar": "Contents",
   "toc_cell": false,
   "toc_position": {},
   "toc_section_display": true,
   "toc_window_display": false
  }
 },
 "nbformat": 4,
 "nbformat_minor": 4
}
